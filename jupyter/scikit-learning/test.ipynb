{
 "cells": [
  {
   "cell_type": "code",
   "execution_count": 1,
   "metadata": {},
   "outputs": [],
   "source": [
    "import numpy as np"
   ]
  },
  {
   "cell_type": "code",
   "execution_count": 3,
   "metadata": {},
   "outputs": [],
   "source": [
    "from sklearn import datasets\n",
    "from sklearn.cross_validation import train_test_split\n",
    "from sklearn.neighbors import KNeighborsClassifier"
   ]
  },
  {
   "cell_type": "code",
   "execution_count": 4,
   "metadata": {},
   "outputs": [],
   "source": [
    "iris = datasets.load_iris()"
   ]
  },
  {
   "cell_type": "code",
   "execution_count": 6,
   "metadata": {},
   "outputs": [],
   "source": [
    "iris_x = iris.data"
   ]
  },
  {
   "cell_type": "code",
   "execution_count": 7,
   "metadata": {},
   "outputs": [],
   "source": [
    "iris_y = iris.target"
   ]
  },
  {
   "cell_type": "code",
   "execution_count": 12,
   "metadata": {},
   "outputs": [
    {
     "name": "stdout",
     "output_type": "stream",
     "text": [
      "[[ 5.1  3.5  1.4  0.2]\n",
      " [ 4.9  3.   1.4  0.2]]\n"
     ]
    }
   ],
   "source": [
    "print(iris_x[:2,:])"
   ]
  },
  {
   "cell_type": "code",
   "execution_count": 13,
   "metadata": {},
   "outputs": [
    {
     "name": "stdout",
     "output_type": "stream",
     "text": [
      "[[ 5.1  3.5  1.4  0.2]\n",
      " [ 4.9  3.   1.4  0.2]]\n"
     ]
    }
   ],
   "source": [
    "print(iris_x[:2])"
   ]
  },
  {
   "cell_type": "code",
   "execution_count": 14,
   "metadata": {},
   "outputs": [
    {
     "data": {
      "text/plain": [
       "array([0, 0, 0, 0, 0, 0, 0, 0, 0, 0, 0, 0, 0, 0, 0, 0, 0, 0, 0, 0, 0, 0, 0,\n",
       "       0, 0, 0, 0, 0, 0, 0, 0, 0, 0, 0, 0, 0, 0, 0, 0, 0, 0, 0, 0, 0, 0, 0,\n",
       "       0, 0, 0, 0, 1, 1, 1, 1, 1, 1, 1, 1, 1, 1, 1, 1, 1, 1, 1, 1, 1, 1, 1,\n",
       "       1, 1, 1, 1, 1, 1, 1, 1, 1, 1, 1, 1, 1, 1, 1, 1, 1, 1, 1, 1, 1, 1, 1,\n",
       "       1, 1, 1, 1, 1, 1, 1, 1, 2, 2, 2, 2, 2, 2, 2, 2, 2, 2, 2, 2, 2, 2, 2,\n",
       "       2, 2, 2, 2, 2, 2, 2, 2, 2, 2, 2, 2, 2, 2, 2, 2, 2, 2, 2, 2, 2, 2, 2,\n",
       "       2, 2, 2, 2, 2, 2, 2, 2, 2, 2, 2, 2])"
      ]
     },
     "execution_count": 14,
     "metadata": {},
     "output_type": "execute_result"
    }
   ],
   "source": [
    "iris_y"
   ]
  },
  {
   "cell_type": "code",
   "execution_count": 16,
   "metadata": {},
   "outputs": [],
   "source": [
    "x_train,x_test,y_train,y_test = train_test_split(iris_x,iris_y,test_size=0.3)\n",
    "knn = KNeighborsClassifier()"
   ]
  },
  {
   "cell_type": "code",
   "execution_count": 17,
   "metadata": {},
   "outputs": [
    {
     "data": {
      "text/plain": [
       "KNeighborsClassifier(algorithm='auto', leaf_size=30, metric='minkowski',\n",
       "           metric_params=None, n_jobs=1, n_neighbors=5, p=2,\n",
       "           weights='uniform')"
      ]
     },
     "execution_count": 17,
     "metadata": {},
     "output_type": "execute_result"
    }
   ],
   "source": [
    "knn.fit(x_train,y_train)"
   ]
  },
  {
   "cell_type": "code",
   "execution_count": 18,
   "metadata": {},
   "outputs": [
    {
     "data": {
      "text/plain": [
       "array([0, 1, 2, 0, 2, 2, 2, 2, 1, 0, 2, 2, 2, 0, 2, 2, 1, 1, 1, 1, 2, 0, 2,\n",
       "       0, 2, 1, 1, 1, 0, 0, 0, 2, 0, 1, 2, 0, 2, 2, 2, 0, 1, 0, 2, 1, 1])"
      ]
     },
     "execution_count": 18,
     "metadata": {},
     "output_type": "execute_result"
    }
   ],
   "source": [
    "knn.predict(x_test)"
   ]
  },
  {
   "cell_type": "code",
   "execution_count": 19,
   "metadata": {},
   "outputs": [
    {
     "data": {
      "text/plain": [
       "array([0, 1, 2, 0, 2, 2, 2, 1, 1, 0, 2, 2, 2, 0, 2, 2, 1, 1, 1, 2, 2, 0, 2,\n",
       "       0, 2, 1, 1, 1, 0, 0, 0, 2, 0, 1, 2, 0, 2, 2, 2, 0, 1, 0, 2, 1, 1])"
      ]
     },
     "execution_count": 19,
     "metadata": {},
     "output_type": "execute_result"
    }
   ],
   "source": [
    "y_test"
   ]
  },
  {
   "cell_type": "code",
   "execution_count": null,
   "metadata": {},
   "outputs": [],
   "source": []
  },
  {
   "cell_type": "code",
   "execution_count": null,
   "metadata": {},
   "outputs": [],
   "source": []
  },
  {
   "cell_type": "code",
   "execution_count": 20,
   "metadata": {},
   "outputs": [],
   "source": [
    "from sklearn.linear_model import LinearRegression"
   ]
  },
  {
   "cell_type": "code",
   "execution_count": 21,
   "metadata": {},
   "outputs": [],
   "source": [
    "loaded_data = datasets.load_boston()"
   ]
  },
  {
   "cell_type": "code",
   "execution_count": 22,
   "metadata": {},
   "outputs": [],
   "source": [
    "x_data = loaded_data.data"
   ]
  },
  {
   "cell_type": "code",
   "execution_count": 23,
   "metadata": {},
   "outputs": [],
   "source": [
    "y_data = loaded_data.target"
   ]
  },
  {
   "cell_type": "code",
   "execution_count": 24,
   "metadata": {},
   "outputs": [],
   "source": [
    "model = LinearRegression()"
   ]
  },
  {
   "cell_type": "code",
   "execution_count": 25,
   "metadata": {},
   "outputs": [
    {
     "data": {
      "text/plain": [
       "LinearRegression(copy_X=True, fit_intercept=True, n_jobs=1, normalize=False)"
      ]
     },
     "execution_count": 25,
     "metadata": {},
     "output_type": "execute_result"
    }
   ],
   "source": [
    "model.fit(x_data,y_data)"
   ]
  },
  {
   "cell_type": "code",
   "execution_count": 26,
   "metadata": {},
   "outputs": [
    {
     "data": {
      "text/plain": [
       "array([ 30.00821269,  25.0298606 ,  30.5702317 ,  28.60814055])"
      ]
     },
     "execution_count": 26,
     "metadata": {},
     "output_type": "execute_result"
    }
   ],
   "source": [
    "model.predict(x_data[:4,:])"
   ]
  },
  {
   "cell_type": "code",
   "execution_count": 27,
   "metadata": {},
   "outputs": [
    {
     "data": {
      "text/plain": [
       "array([ 24. ,  21.6,  34.7,  33.4])"
      ]
     },
     "execution_count": 27,
     "metadata": {},
     "output_type": "execute_result"
    }
   ],
   "source": [
    "y_data[:4]"
   ]
  },
  {
   "cell_type": "code",
   "execution_count": 29,
   "metadata": {},
   "outputs": [],
   "source": [
    "import matplotlib.pyplot as plt"
   ]
  },
  {
   "cell_type": "code",
   "execution_count": 38,
   "metadata": {},
   "outputs": [],
   "source": [
    "x,y = datasets.make_regression(n_samples=100,n_features=1,n_targets=1,noise=2)"
   ]
  },
  {
   "cell_type": "code",
   "execution_count": 39,
   "metadata": {},
   "outputs": [
    {
     "data": {
      "text/plain": [
       "<matplotlib.collections.PathCollection at 0x7f68d3dab780>"
      ]
     },
     "execution_count": 39,
     "metadata": {},
     "output_type": "execute_result"
    },
    {
     "data": {
      "image/png": "[encoded data removed]",
      "text/plain": [
       "<matplotlib.figure.Figure at 0x7f68e009ab70>"
      ]
     },
     "metadata": {},
     "output_type": "display_data"
    }
   ],
   "source": [
    "plt.scatter(x,y)"
   ]
  },
  {
   "cell_type": "code",
   "execution_count": 40,
   "metadata": {},
   "outputs": [
    {
     "data": {
      "text/plain": [
       "array([ -1.07170557e-01,   4.63952195e-02,   2.08602395e-02,\n",
       "         2.68856140e+00,  -1.77957587e+01,   3.80475246e+00,\n",
       "         7.51061703e-04,  -1.47575880e+00,   3.05655038e-01,\n",
       "        -1.23293463e-02,  -9.53463555e-01,   9.39251272e-03,\n",
       "        -5.25466633e-01])"
      ]
     },
     "execution_count": 40,
     "metadata": {},
     "output_type": "execute_result"
    }
   ],
   "source": [
    "model.coef_"
   ]
  },
  {
   "cell_type": "code",
   "execution_count": 41,
   "metadata": {},
   "outputs": [
    {
     "data": {
      "text/plain": [
       "36.491103280362381"
      ]
     },
     "execution_count": 41,
     "metadata": {},
     "output_type": "execute_result"
    }
   ],
   "source": [
    "model.intercept_"
   ]
  },
  {
   "cell_type": "code",
   "execution_count": null,
   "metadata": {},
   "outputs": [],
   "source": []
  },
  {
   "cell_type": "code",
   "execution_count": null,
   "metadata": {},
   "outputs": [],
   "source": []
  },
  {
   "cell_type": "code",
   "execution_count": 42,
   "metadata": {},
   "outputs": [],
   "source": [
    "from sklearn import preprocessing"
   ]
  },
  {
   "cell_type": "code",
   "execution_count": 43,
   "metadata": {},
   "outputs": [],
   "source": [
    "import numpy as np"
   ]
  },
  {
   "cell_type": "code",
   "execution_count": 47,
   "metadata": {},
   "outputs": [],
   "source": [
    "a = np.array([[10,2.7,3.6],[-100,5,-2],[120,20,40]],dtype=np.float64)"
   ]
  },
  {
   "cell_type": "code",
   "execution_count": 48,
   "metadata": {},
   "outputs": [
    {
     "data": {
      "text/plain": [
       "array([[  10. ,    2.7,    3.6],\n",
       "       [-100. ,    5. ,   -2. ],\n",
       "       [ 120. ,   20. ,   40. ]])"
      ]
     },
     "execution_count": 48,
     "metadata": {},
     "output_type": "execute_result"
    }
   ],
   "source": [
    "a"
   ]
  },
  {
   "cell_type": "code",
   "execution_count": 49,
   "metadata": {},
   "outputs": [
    {
     "data": {
      "text/plain": [
       "array([[ 0.        , -0.85170713, -0.55138018],\n",
       "       [-1.22474487, -0.55187146, -0.852133  ],\n",
       "       [ 1.22474487,  1.40357859,  1.40351318]])"
      ]
     },
     "execution_count": 49,
     "metadata": {},
     "output_type": "execute_result"
    }
   ],
   "source": [
    "preprocessing.scale(a)"
   ]
  },
  {
   "cell_type": "code",
   "execution_count": 50,
   "metadata": {},
   "outputs": [],
   "source": [
    "\n",
    "from sklearn.cross_validation import train_test_split\n",
    "\n",
    "from sklearn.datasets.samples_generator import make_classification\n",
    "\n",
    "from sklearn.svm import SVC\n",
    "\n",
    "import matplotlib.pyplot as plt\n"
   ]
  },
  {
   "cell_type": "code",
   "execution_count": 51,
   "metadata": {},
   "outputs": [],
   "source": [
    "x,y = make_classification(n_samples=300,n_features=2,n_redundant=0,n_informative=2,random_state=22,n_clusters_per_class=1,scale=100)"
   ]
  },
  {
   "cell_type": "code",
   "execution_count": 52,
   "metadata": {},
   "outputs": [
    {
     "data": {
      "text/plain": [
       "array([[ 0.85250502,  0.46068155],\n",
       "       [ 0.21852168,  0.75693678],\n",
       "       [ 0.63473781,  0.52695779],\n",
       "       [ 0.5421389 ,  0.5902955 ],\n",
       "       [ 0.29610214,  0.68930931],\n",
       "       [ 0.29993013,  0.5928326 ],\n",
       "       [ 0.38017769,  0.6247581 ],\n",
       "       [ 0.11027288,  0.73182814],\n",
       "       [ 0.69742679,  0.53156655],\n",
       "       [ 0.38127804,  0.20476156],\n",
       "       [ 0.82948866,  0.46076906],\n",
       "       [ 0.53086928,  0.59224717],\n",
       "       [ 0.65725966,  0.53887051],\n",
       "       [ 0.37798587,  0.0934921 ],\n",
       "       [ 0.04831098,  0.75946004],\n",
       "       [ 0.71176275,  0.4959823 ],\n",
       "       [ 0.61016806,  0.51930577],\n",
       "       [ 0.65991548,  0.49911129],\n",
       "       [ 0.29786446,  0.66749938],\n",
       "       [ 0.78120969,  0.42817196],\n",
       "       [ 0.26494792,  0.41354138],\n",
       "       [ 0.22805922,  0.88107821],\n",
       "       [ 0.46838098,  0.52140748],\n",
       "       [ 0.32872218,  0.58988333],\n",
       "       [ 0.16442166,  0.78555525],\n",
       "       [ 0.57499045,  0.52442623],\n",
       "       [ 0.18583637,  0.74473078],\n",
       "       [ 0.22345943,  0.49104545],\n",
       "       [ 0.3103477 ,  0.46750708],\n",
       "       [ 0.7717597 ,  0.42769943],\n",
       "       [ 0.31782306,  0.52141716],\n",
       "       [ 0.4989464 ,  0.67807931],\n",
       "       [ 0.55931492,  0.54000826],\n",
       "       [ 0.54194512,  0.5703396 ],\n",
       "       [ 0.3302721 ,  0.2939343 ],\n",
       "       [ 0.18238212,  0.58942802],\n",
       "       [ 0.24683435,  0.6425202 ],\n",
       "       [ 0.29777907,  0.39542319],\n",
       "       [ 0.36666841,  0.37848576],\n",
       "       [ 0.29665489,  0.60346466],\n",
       "       [ 0.72602575,  0.46181336],\n",
       "       [ 0.34069533,  0.51429473],\n",
       "       [ 0.66465002,  0.48219448],\n",
       "       [ 0.11093096,  0.74041307],\n",
       "       [ 0.27690255,  0.3669862 ],\n",
       "       [ 0.55832915,  0.55875442],\n",
       "       [ 0.25655569,  0.3967485 ],\n",
       "       [ 0.30310803,  0.39961146],\n",
       "       [ 0.15269502,  0.49285793],\n",
       "       [ 0.49986883,  0.23503245],\n",
       "       [ 0.74194658,  0.52360317],\n",
       "       [ 0.57833109,  0.53846888],\n",
       "       [ 0.74575049,  0.40794508],\n",
       "       [ 0.23896884,  0.53020401],\n",
       "       [ 0.03342515,  0.64712789],\n",
       "       [ 0.69084326,  0.54348156],\n",
       "       [ 0.31068527,  0.3882335 ],\n",
       "       [ 0.16463046,  0.6898818 ],\n",
       "       [ 0.07999841,  0.89930761],\n",
       "       [ 0.69034045,  0.50181428],\n",
       "       [ 0.33099382,  0.4249198 ],\n",
       "       [ 0.5918423 ,  0.59004761],\n",
       "       [ 0.20744922,  0.4393709 ],\n",
       "       [ 0.3767666 ,  0.64396149],\n",
       "       [ 0.27677797,  0.66761354],\n",
       "       [ 0.66988792,  0.47415771],\n",
       "       [ 0.40232517,  0.48637307],\n",
       "       [ 0.34524554,  0.29879135],\n",
       "       [ 0.14171314,  0.61134615],\n",
       "       [ 0.09298659,  0.53514787],\n",
       "       [ 0.60989375,  0.48348068],\n",
       "       [ 0.16899317,  0.76040105],\n",
       "       [ 0.07586425,  0.76961069],\n",
       "       [ 0.72529512,  0.46715038],\n",
       "       [ 0.87566116,  0.39534162],\n",
       "       [ 0.47977479,  0.58248313],\n",
       "       [ 0.2661537 ,  0.59369911],\n",
       "       [ 0.341955  ,  0.50549321],\n",
       "       [ 0.24613522,  0.32264539],\n",
       "       [ 0.27356909,  0.57887454],\n",
       "       [ 0.41372042,  0.55566584],\n",
       "       [ 0.11079692,  0.67108009],\n",
       "       [ 0.21989994,  0.65915471],\n",
       "       [ 0.29525983,  0.62000174],\n",
       "       [ 0.75510757,  0.50437802],\n",
       "       [ 0.32704471,  0.37682148],\n",
       "       [ 0.86837585,  0.41300524],\n",
       "       [ 0.13027214,  0.66689012],\n",
       "       [ 0.59879975,  0.56409964],\n",
       "       [ 0.29741808,  0.40357352],\n",
       "       [ 0.83734509,  0.42988229],\n",
       "       [ 0.27784065,  0.4767238 ],\n",
       "       [ 0.11293669,  0.6911341 ],\n",
       "       [ 0.27501149,  0.71891743],\n",
       "       [ 0.36865573,  0.58990745],\n",
       "       [ 0.4796615 ,  0.59422749],\n",
       "       [ 0.32325773,  0.50806713],\n",
       "       [ 0.03692698,  0.67284711],\n",
       "       [ 0.17454008,  0.66937231],\n",
       "       [ 0.18819147,  0.70996649],\n",
       "       [ 0.22825005,  0.55983734],\n",
       "       [ 0.28990828,  0.5938665 ],\n",
       "       [ 0.01721465,  0.79160059],\n",
       "       [ 0.17814601,  0.4707299 ],\n",
       "       [ 0.22562007,  0.37144327],\n",
       "       [ 0.68321385,  0.51332579],\n",
       "       [ 0.19222619,  0.64807505],\n",
       "       [ 0.27432265,  0.38698428],\n",
       "       [ 0.38860637,  0.38168306],\n",
       "       [ 0.22808652,  0.53383607],\n",
       "       [ 0.29736239,  0.47601787],\n",
       "       [ 0.80322256,  0.49798103],\n",
       "       [ 0.57958252,  0.58442514],\n",
       "       [ 0.63729621,  0.51711293],\n",
       "       [ 0.34583078,  0.61491604],\n",
       "       [ 0.25407455,  0.51518022],\n",
       "       [ 0.41238537,  0.37725198],\n",
       "       [ 0.67449673,  0.48409098],\n",
       "       [ 0.11454569,  0.6266812 ],\n",
       "       [ 0.73748282,  0.47951632],\n",
       "       [ 0.14479188,  0.65543099],\n",
       "       [ 0.89841203,  0.4716548 ],\n",
       "       [ 0.89389504,  0.39369422],\n",
       "       [ 0.14050371,  1.        ],\n",
       "       [ 0.77227076,  0.53281813],\n",
       "       [ 0.40890007,  0.35219764],\n",
       "       [ 0.13174789,  0.84033249],\n",
       "       [ 0.59969837,  0.49703548],\n",
       "       [ 0.24046156,  0.79050117],\n",
       "       [ 0.69155737,  0.49979779],\n",
       "       [ 0.19034483,  0.50874187],\n",
       "       [ 0.37305618,  0.19531356],\n",
       "       [ 0.18020875,  0.58908572],\n",
       "       [ 0.12469607,  0.83827201],\n",
       "       [ 0.57715846,  0.56678823],\n",
       "       [ 0.19050822,  0.68917757],\n",
       "       [ 0.33676427,  0.31742309],\n",
       "       [ 0.47136405,  0.54888851],\n",
       "       [ 0.72465212,  0.48364794],\n",
       "       [ 1.        ,  0.36460393],\n",
       "       [ 0.49369302,  0.53224481],\n",
       "       [ 0.52611826,  0.60937557],\n",
       "       [ 0.70323109,  0.4083623 ],\n",
       "       [ 0.27770526,  0.53222793],\n",
       "       [ 0.62248465,  0.56027702],\n",
       "       [ 0.28970827,  0.30930575],\n",
       "       [ 0.26865216,  0.46140881],\n",
       "       [ 0.2654277 ,  0.4109132 ],\n",
       "       [ 0.30162332,  0.4916562 ],\n",
       "       [ 0.48901542,  0.54928497],\n",
       "       [ 0.57549359,  0.51567188],\n",
       "       [ 0.07911695,  0.84650784],\n",
       "       [ 0.4922505 ,  0.5249955 ],\n",
       "       [ 0.19390618,  0.69607473],\n",
       "       [ 0.3453544 ,  0.55578705],\n",
       "       [ 0.10437189,  0.58978927],\n",
       "       [ 0.24134999,  0.51961887],\n",
       "       [ 0.48249083,  0.53661459],\n",
       "       [ 0.67861102,  0.56246338],\n",
       "       [ 0.86973724,  0.39571664],\n",
       "       [ 0.74790011,  0.48559249],\n",
       "       [ 0.30215298,  0.63864721],\n",
       "       [ 0.00261047,  0.66055528],\n",
       "       [ 0.29520733,  0.43922329],\n",
       "       [ 0.73755643,  0.46802822],\n",
       "       [ 0.27337544,  0.71426577],\n",
       "       [ 0.21628673,  0.57421535],\n",
       "       [ 0.61943118,  0.52421251],\n",
       "       [ 0.71402478,  0.38644531],\n",
       "       [ 0.55429123,  0.570806  ],\n",
       "       [ 0.64848145,  0.45081073],\n",
       "       [ 0.14835492,  0.65982355],\n",
       "       [ 0.79205825,  0.44712313],\n",
       "       [ 0.18907566,  0.81649318],\n",
       "       [ 0.10028387,  0.94323247],\n",
       "       [ 0.65542823,  0.45178254],\n",
       "       [ 0.04499243,  0.83616174],\n",
       "       [ 0.73242251,  0.50812103],\n",
       "       [ 0.2576593 ,  0.5449834 ],\n",
       "       [ 0.35728512,  0.38869429],\n",
       "       [ 0.57803545,  0.45407801],\n",
       "       [ 0.20466112,  0.52801239],\n",
       "       [ 0.42903117,  0.21977996],\n",
       "       [ 0.27017245,  0.35345911],\n",
       "       [ 0.14632287,  0.62973271],\n",
       "       [ 0.16713284,  0.45917007],\n",
       "       [ 0.644421  ,  0.55042673],\n",
       "       [ 0.5365216 ,  0.56098456],\n",
       "       [ 0.35032598,  0.52783677],\n",
       "       [ 0.49185807,  0.57078395],\n",
       "       [ 0.59361797,  0.52354644],\n",
       "       [ 0.37668584,  0.59757297],\n",
       "       [ 0.33625748,  0.43981953],\n",
       "       [ 0.44625766,  0.22897186],\n",
       "       [ 0.40550589,  0.59285585],\n",
       "       [ 0.54439331,  0.54462082],\n",
       "       [ 0.14626533,  0.83765738],\n",
       "       [ 0.26655461,  0.65786822],\n",
       "       [ 0.33193344,  0.63133053],\n",
       "       [ 0.4544495 ,  0.52818537],\n",
       "       [ 0.6934075 ,  0.51693147],\n",
       "       [ 0.52097931,  0.57838767],\n",
       "       [ 0.08746493,  0.69490321],\n",
       "       [ 0.28681855,  0.75526411],\n",
       "       [ 0.53856003,  0.49975822],\n",
       "       [ 0.48152592,  0.61035924],\n",
       "       [ 0.14096416,  0.78047671],\n",
       "       [ 0.88820506,  0.42099111],\n",
       "       [ 0.24323672,  0.67667897],\n",
       "       [ 0.1998961 ,  0.61085594],\n",
       "       [ 0.35701525,  0.5429002 ],\n",
       "       [ 0.20217731,  0.69136119],\n",
       "       [ 0.5462061 ,  0.55132703],\n",
       "       [ 0.14875305,  0.49519356],\n",
       "       [ 0.22030769,  0.30350648],\n",
       "       [ 0.50486021,  0.57981766],\n",
       "       [ 0.36749797,  0.3044603 ],\n",
       "       [ 0.69070775,  0.50656333],\n",
       "       [ 0.28564753,  0.46296682],\n",
       "       [ 0.52543424,  0.52974527],\n",
       "       [ 0.66270362,  0.52099412],\n",
       "       [ 0.18671213,  0.61410959],\n",
       "       [ 0.37553155,  0.26356006],\n",
       "       [ 0.50206054,  0.64002047],\n",
       "       [ 0.        ,  0.89858168],\n",
       "       [ 0.44374778,  0.54847581],\n",
       "       [ 0.08253243,  0.74766358],\n",
       "       [ 0.3383293 ,  0.59364586],\n",
       "       [ 0.12562709,  0.82276653],\n",
       "       [ 0.33434197,  0.67314314],\n",
       "       [ 0.72880995,  0.40811598],\n",
       "       [ 0.6908386 ,  0.4849684 ],\n",
       "       [ 0.3396815 ,  0.18579627],\n",
       "       [ 0.35986661,  0.64653521],\n",
       "       [ 0.76449366,  0.44257366],\n",
       "       [ 0.27687322,  0.53023689],\n",
       "       [ 0.47581629,  0.56842186],\n",
       "       [ 0.26100746,  0.26101166],\n",
       "       [ 0.53195059,  0.51810041],\n",
       "       [ 0.50777313,  0.49119413],\n",
       "       [ 0.69296629,  0.46238454],\n",
       "       [ 0.1399876 ,  0.66450138],\n",
       "       [ 0.26840146,  0.32262417],\n",
       "       [ 0.51223526,  0.03866076],\n",
       "       [ 0.38731126,  0.36134519],\n",
       "       [ 0.71317335,  0.45284971],\n",
       "       [ 0.42733832,  0.63970905],\n",
       "       [ 0.61402485,  0.54952873],\n",
       "       [ 0.0744536 ,  0.74903395],\n",
       "       [ 0.66489713,  0.49765057],\n",
       "       [ 0.16167258,  0.97262693],\n",
       "       [ 0.68706031,  0.48492283],\n",
       "       [ 0.56702369,  0.62090461],\n",
       "       [ 0.26087233,  0.48432871],\n",
       "       [ 0.5770416 ,  0.58243149],\n",
       "       [ 0.42565395,  0.56064882],\n",
       "       [ 0.14362726,  0.767898  ],\n",
       "       [ 0.68252039,  0.43290949],\n",
       "       [ 0.20330056,  0.72870264],\n",
       "       [ 0.40085554,  0.63770197],\n",
       "       [ 0.52971775,  0.21647041],\n",
       "       [ 0.35582192,  0.27413331],\n",
       "       [ 0.61742213,  0.57114748],\n",
       "       [ 0.51495432,  0.54778477],\n",
       "       [ 0.64089345,  0.51129766],\n",
       "       [ 0.21408599,  0.58345113],\n",
       "       [ 0.30367393,  0.60569831],\n",
       "       [ 0.24317804,  0.67978863],\n",
       "       [ 0.16915171,  0.63321196],\n",
       "       [ 0.20053033,  0.58635012],\n",
       "       [ 0.55530666,  0.55506635],\n",
       "       [ 0.67104135,  0.46036707],\n",
       "       [ 0.79465431,  0.44606759],\n",
       "       [ 0.18453131,  0.55799011],\n",
       "       [ 0.26676047,  0.60372601],\n",
       "       [ 0.14045519,  0.50026307],\n",
       "       [ 0.26557194,  0.28041251],\n",
       "       [ 0.66337618,  0.51380994],\n",
       "       [ 0.2451547 ,  0.63730843],\n",
       "       [ 0.3838112 ,  0.65270149],\n",
       "       [ 0.15318263,  0.75293157],\n",
       "       [ 0.78002118,  0.37421078],\n",
       "       [ 0.47747234,  0.56616892],\n",
       "       [ 0.29149604,  0.45881582],\n",
       "       [ 0.19929455,  0.52068108],\n",
       "       [ 0.42774117,  0.13197571],\n",
       "       [ 0.31355905,  0.42818338],\n",
       "       [ 0.15048199,  0.81666762],\n",
       "       [ 0.48009906,  0.        ],\n",
       "       [ 0.32882155,  0.37206597],\n",
       "       [ 0.5477725 ,  0.53006661],\n",
       "       [ 0.53987821,  0.50509928],\n",
       "       [ 0.53327164,  0.57499305],\n",
       "       [ 0.71820911,  0.4898554 ],\n",
       "       [ 0.22555842,  0.64222309],\n",
       "       [ 0.2455069 ,  0.47813549],\n",
       "       [ 0.14256735,  0.66502652],\n",
       "       [ 0.2383838 ,  0.62648997],\n",
       "       [ 0.71059543,  0.47467472],\n",
       "       [ 0.72681937,  0.46236854]])"
      ]
     },
     "execution_count": 52,
     "metadata": {},
     "output_type": "execute_result"
    }
   ],
   "source": [
    "preprocessing.minmax_scale(x,feature_range=(0,1))"
   ]
  },
  {
   "cell_type": "code",
   "execution_count": 54,
   "metadata": {},
   "outputs": [],
   "source": [
    "x = preprocessing.scale(x)"
   ]
  },
  {
   "cell_type": "code",
   "execution_count": 59,
   "metadata": {},
   "outputs": [],
   "source": [
    "x_train ,x_test,y_train,y_test = train_test_split(x,y,test_size=.3)"
   ]
  },
  {
   "cell_type": "code",
   "execution_count": 60,
   "metadata": {},
   "outputs": [],
   "source": [
    "clf = SVC()"
   ]
  },
  {
   "cell_type": "code",
   "execution_count": 61,
   "metadata": {},
   "outputs": [
    {
     "data": {
      "text/plain": [
       "SVC(C=1.0, cache_size=200, class_weight=None, coef0=0.0,\n",
       "  decision_function_shape='ovr', degree=3, gamma='auto', kernel='rbf',\n",
       "  max_iter=-1, probability=False, random_state=None, shrinking=True,\n",
       "  tol=0.001, verbose=False)"
      ]
     },
     "execution_count": 61,
     "metadata": {},
     "output_type": "execute_result"
    }
   ],
   "source": [
    "clf.fit(x_train,y_train)"
   ]
  },
  {
   "cell_type": "code",
   "execution_count": 62,
   "metadata": {},
   "outputs": [
    {
     "data": {
      "text/plain": [
       "0.93333333333333335"
      ]
     },
     "execution_count": 62,
     "metadata": {},
     "output_type": "execute_result"
    }
   ],
   "source": [
    "clf.score(x_test,y_test)"
   ]
  },
  {
   "cell_type": "code",
   "execution_count": null,
   "metadata": {},
   "outputs": [],
   "source": []
  }
 ],
 "metadata": {
  "kernelspec": {
   "display_name": "Python 3",
   "language": "python",
   "name": "python3"
  },
  "language_info": {
   "codemirror_mode": {
    "name": "ipython",
    "version": 3
   },
   "file_extension": ".py",
   "mimetype": "text/x-python",
   "name": "python",
   "nbconvert_exporter": "python",
   "pygments_lexer": "ipython3",
   "version": "3.6.3"
  }
 },
 "nbformat": 4,
 "nbformat_minor": 2
}

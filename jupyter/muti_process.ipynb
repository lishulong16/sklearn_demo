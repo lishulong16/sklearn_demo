{
 "cells": [
  {
   "cell_type": "code",
   "execution_count": 40,
   "metadata": {},
   "outputs": [],
   "source": [
    "import os"
   ]
  },
  {
   "cell_type": "code",
   "execution_count": 41,
   "metadata": {},
   "outputs": [],
   "source": [
    "def p_id():\n",
    "    print('process :{} start...'.format(os.getpid()))\n",
    "    pid = os.fork()\n",
    "    if pid ==0:\n",
    "        print(\"child process:{},ppid:{}\".format(os.getpid(),os.getppid()))\n",
    "    else:\n",
    "        print('sub process :{} ppid:{} start...'.format(os.getpid(),os.getppid()))"
   ]
  },
  {
   "cell_type": "code",
   "execution_count": 42,
   "metadata": {},
   "outputs": [
    {
     "name": "stdout",
     "output_type": "stream",
     "text": [
      "process :14885 start...\n",
      "sub process :14885 ppid:14137 start...\n",
      "child process:15559,ppid:14885\n",
      "ERROR! Session/line number was not unique in database. History logging moved to new session 17\n"
     ]
    }
   ],
   "source": [
    "p_id()"
   ]
  },
  {
   "cell_type": "code",
   "execution_count": 81,
   "metadata": {},
   "outputs": [],
   "source": [
    "from  multiprocessing import Process\n",
    "from multiprocessing import Queue\n",
    "import time"
   ]
  },
  {
   "cell_type": "code",
   "execution_count": 82,
   "metadata": {},
   "outputs": [],
   "source": [
    "def write(q:Queue):\n",
    "    for i in range(10):\n",
    "        print('put {} to queues.'.format(i))\n",
    "        q.put(i)\n",
    "        time.sleep(1)\n",
    "    "
   ]
  },
  {
   "cell_type": "code",
   "execution_count": 83,
   "metadata": {},
   "outputs": [],
   "source": [
    "def read(q:Queue):\n",
    "    while 1:\n",
    "        print('get value:{} from queue.'.format(q.get()))\n",
    "    "
   ]
  },
  {
   "cell_type": "code",
   "execution_count": 86,
   "metadata": {},
   "outputs": [],
   "source": [
    "def main():\n",
    "    q = Queue()\n",
    "    pw = Process(target=write,args=(q,))\n",
    "    pr = Process(target=read,args=(q,))\n",
    "    pw.start()\n",
    "   \n",
    "    pr.start()\n",
    "    pw.join()\n",
    "    pr.terminate()"
   ]
  },
  {
   "cell_type": "code",
   "execution_count": 87,
   "metadata": {},
   "outputs": [
    {
     "name": "stdout",
     "output_type": "stream",
     "text": [
      "put 0 to queues.\n",
      "get value:0 from queue.\n",
      "put 1 to queues.\n",
      "get value:1 from queue.\n",
      "put 2 to queues.\n",
      "get value:2 from queue.\n",
      "put 3 to queues.\n",
      "get value:3 from queue.\n",
      "put 4 to queues.\n",
      "get value:4 from queue.\n",
      "put 5 to queues.\n",
      "get value:5 from queue.\n",
      "put 6 to queues.\n",
      "get value:6 from queue.\n",
      "put 7 to queues.\n",
      "get value:7 from queue.\n",
      "put 8 to queues.\n",
      "get value:8 from queue.\n",
      "put 9 to queues.\n",
      "get value:9 from queue.\n"
     ]
    }
   ],
   "source": [
    "main()"
   ]
  },
  {
   "cell_type": "code",
   "execution_count": null,
   "metadata": {},
   "outputs": [],
   "source": []
  },
  {
   "cell_type": "code",
   "execution_count": null,
   "metadata": {},
   "outputs": [],
   "source": []
  }
 ],
 "metadata": {
  "kernelspec": {
   "display_name": "Python 3",
   "language": "python",
   "name": "python3"
  },
  "language_info": {
   "codemirror_mode": {
    "name": "ipython",
    "version": 3
   },
   "file_extension": ".py",
   "mimetype": "text/x-python",
   "name": "python",
   "nbconvert_exporter": "python",
   "pygments_lexer": "ipython3",
   "version": "3.6.2"
  }
 },
 "nbformat": 4,
 "nbformat_minor": 2
}

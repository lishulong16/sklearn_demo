{
 "cells": [
  {
   "cell_type": "markdown",
   "metadata": {},
   "source": [
    "# 二分查找"
   ]
  },
  {
   "cell_type": "code",
   "execution_count": 1,
   "metadata": {},
   "outputs": [],
   "source": [
    "from datetime import datetime"
   ]
  },
  {
   "cell_type": "code",
   "execution_count": 2,
   "metadata": {},
   "outputs": [],
   "source": [
    "def cal_time(func):\n",
    "    \n",
    "    def wrapper(*args,**kwrgs):\n",
    "        ti = datetime.now()\n",
    "        re = func(*args,**kwrgs)\n",
    "        t = datetime.now()\n",
    "        print('\\rcost_time function method {} is {}'.format(func.__name__,(t-ti).total_seconds()),)\n",
    "        return re\n",
    "    return wrapper"
   ]
  },
  {
   "cell_type": "code",
   "execution_count": 3,
   "metadata": {},
   "outputs": [],
   "source": [
    "def __binary_search(data_set,find_value):\n",
    "    dt_len = len(data_set)\n",
    "    if dt_len > 1:\n",
    "        mid = dt_len // 2\n",
    "        if data_set[mid] == find_value:\n",
    "            return \"1找到了对应的数字{}了\".format(find_value)\n",
    "        elif data_set[mid] > find_value:\n",
    "            return __binary_search(data_set[:mid],find_value)\n",
    "        else:\n",
    "            return __binary_search(data_set[mid+1:],find_value)\n",
    "    else:\n",
    "        if data_set[0] == find_value:\n",
    "            return \"2找到了对应的数字{}了\".format(find_value)\n",
    "        else:\n",
    "            return \"没有找到\"\n",
    "    \n",
    "    "
   ]
  },
  {
   "cell_type": "code",
   "execution_count": 4,
   "metadata": {},
   "outputs": [],
   "source": [
    "@cal_time\n",
    "def binary_search(data_set,find_value):\n",
    "    return __binary_search(data_set,find_value)"
   ]
  },
  {
   "cell_type": "code",
   "execution_count": 5,
   "metadata": {},
   "outputs": [],
   "source": [
    "@cal_time\n",
    "def binary_search_while(data_set,find_value):\n",
    "    low = 0\n",
    "    hight = len(data_set)-1\n",
    "    while low <= hight:\n",
    "        mid = (low+hight)//2\n",
    "        if data_set[mid]==find_value:\n",
    "            return \"找到了数字{}了\".format(find_value)\n",
    "        elif data_set[mid] > find_value:\n",
    "            hight = mid - 1\n",
    "        else:\n",
    "            low = mid + 1\n",
    "    return \"没有找到哦\""
   ]
  },
  {
   "cell_type": "code",
   "execution_count": 6,
   "metadata": {},
   "outputs": [],
   "source": [
    "data_set = list(range(100000000))"
   ]
  },
  {
   "cell_type": "code",
   "execution_count": 7,
   "metadata": {},
   "outputs": [],
   "source": [
    "find_value = 90908000"
   ]
  },
  {
   "cell_type": "code",
   "execution_count": 8,
   "metadata": {},
   "outputs": [
    {
     "name": "stdout",
     "output_type": "stream",
     "text": [
      "\r",
      "cost_time function method binary_search_while is 2.4e-05\n"
     ]
    },
    {
     "data": {
      "text/plain": [
       "'找到了数字90908000了'"
      ]
     },
     "execution_count": 8,
     "metadata": {},
     "output_type": "execute_result"
    }
   ],
   "source": [
    "binary_search_while(data_set,find_value)"
   ]
  },
  {
   "cell_type": "code",
   "execution_count": 9,
   "metadata": {},
   "outputs": [
    {
     "name": "stdout",
     "output_type": "stream",
     "text": [
      "\r",
      "cost_time function method binary_search is 5.129466\n"
     ]
    },
    {
     "data": {
      "text/plain": [
       "'1找到了对应的数字90908000了'"
      ]
     },
     "execution_count": 9,
     "metadata": {},
     "output_type": "execute_result"
    }
   ],
   "source": [
    "binary_search(data_set,find_value)"
   ]
  },
  {
   "cell_type": "markdown",
   "metadata": {},
   "source": [
    "### warning: binary_search在进行二分的时候采用的是切片的操作，这个操作会复制生成一个新的list"
   ]
  },
  {
   "cell_type": "markdown",
   "metadata": {},
   "source": [
    "# 尾递归"
   ]
  },
  {
   "cell_type": "code",
   "execution_count": 19,
   "metadata": {},
   "outputs": [],
   "source": [
    "def __binary_search_index(data_set,low,hight,find_num):\n",
    "    \"\"\"\n",
    "    移动index 进行二分查找\n",
    "    \"\"\"\n",
    "    if low > hight:\n",
    "    mid = (low+hight)//2\n",
    "    if data_set[mid] == find_num:\n",
    "        return \"查询到数字：{} 了\".format(find_num)\n",
    "    elif data_set[mid] > find_num:\n",
    "        hight = mid-1\n",
    "        return __binary_search_index(data_set,low,hight,find_num)\n",
    "    else:\n",
    "        low = mid+1\n",
    "        return __binary_search_index(data_set,low,hight,find_num)"
   ]
  },
  {
   "cell_type": "code",
   "execution_count": 20,
   "metadata": {},
   "outputs": [],
   "source": [
    "@cal_time\n",
    "def binary_search_index(data_set,low,hight,find_num):\n",
    "    return __binary_search_index(data_set,low,hight,find_num)"
   ]
  },
  {
   "cell_type": "code",
   "execution_count": 21,
   "metadata": {},
   "outputs": [],
   "source": [
    "low = 0"
   ]
  },
  {
   "cell_type": "code",
   "execution_count": 22,
   "metadata": {},
   "outputs": [],
   "source": [
    "hight = len(data_set)-1"
   ]
  },
  {
   "cell_type": "code",
   "execution_count": 23,
   "metadata": {},
   "outputs": [
    {
     "name": "stdout",
     "output_type": "stream",
     "text": [
      "\r",
      "cost_time function method binary_search_index is 5.6e-05\n"
     ]
    },
    {
     "data": {
      "text/plain": [
       "'查询到数字：90908000 了'"
      ]
     },
     "execution_count": 23,
     "metadata": {},
     "output_type": "execute_result"
    }
   ],
   "source": [
    "binary_search_index(data_set,low,hight,find_value)"
   ]
  },
  {
   "cell_type": "code",
   "execution_count": null,
   "metadata": {},
   "outputs": [],
   "source": []
  }
 ],
 "metadata": {
  "kernelspec": {
   "display_name": "Python 3",
   "language": "python",
   "name": "python3"
  },
  "language_info": {
   "codemirror_mode": {
    "name": "ipython",
    "version": 3
   },
   "file_extension": ".py",
   "mimetype": "text/x-python",
   "name": "python",
   "nbconvert_exporter": "python",
   "pygments_lexer": "ipython3",
   "version": "3.6.2"
  }
 },
 "nbformat": 4,
 "nbformat_minor": 2
}

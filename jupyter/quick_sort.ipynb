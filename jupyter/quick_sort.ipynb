{
 "cells": [
  {
   "cell_type": "code",
   "execution_count": 1,
   "metadata": {},
   "outputs": [],
   "source": [
    "def quick_sort(data,left,right):\n",
    "    \n",
    "    if left < right:\n",
    "        mid = partition(data,left,right)\n",
    "        quick_sort(data,left,mid-1)\n",
    "        quick_sort(data,mid+1,right)\n",
    "    "
   ]
  },
  {
   "cell_type": "code",
   "execution_count": 17,
   "metadata": {},
   "outputs": [],
   "source": [
    "def partition(data,left,right):\n",
    "    tmp = data[left]\n",
    "    while left < right:\n",
    "#         选择出一个<tmp的数 交换\n",
    "        while left<right and data[right] >=tmp:\n",
    "            right -= 1\n",
    "        data[left] = data[right]\n",
    "        print('left:{},right:{}，tmp:{}'.format(left,right,tmp))\n",
    "#         选择一个 >emp的数字 交换\n",
    "        while left < right and data[left]<=tmp:\n",
    "            left +=1\n",
    "        data[right] = data[left]\n",
    "    print('left:{},right:{}，tmp:{}'.format(left,right,tmp))\n",
    "    data[left] = tmp\n",
    "    print(list(data))\n",
    "    return left"
   ]
  },
  {
   "cell_type": "markdown",
   "metadata": {},
   "source": [
    "# 时间复杂度nlogn"
   ]
  },
  {
   "cell_type": "code",
   "execution_count": 18,
   "metadata": {},
   "outputs": [
    {
     "data": {
      "text/plain": [
       "8"
      ]
     },
     "execution_count": 18,
     "metadata": {},
     "output_type": "execute_result"
    }
   ],
   "source": [
    "li = [2,1,4,3,5,6,7,9,8]\n",
    "len(li)-1"
   ]
  },
  {
   "cell_type": "code",
   "execution_count": 19,
   "metadata": {},
   "outputs": [
    {
     "name": "stdout",
     "output_type": "stream",
     "text": [
      "left:0,right:1，tmp:2\n",
      "left:1,right:1，tmp:2\n",
      "[1, 2, 4, 3, 5, 6, 7, 9, 8]\n",
      "left:2,right:3，tmp:4\n",
      "left:3,right:3，tmp:4\n",
      "[1, 2, 3, 4, 5, 6, 7, 9, 8]\n",
      "left:4,right:4，tmp:5\n",
      "left:4,right:4，tmp:5\n",
      "[1, 2, 3, 4, 5, 6, 7, 9, 8]\n",
      "left:5,right:5，tmp:6\n",
      "left:5,right:5，tmp:6\n",
      "[1, 2, 3, 4, 5, 6, 7, 9, 8]\n",
      "left:6,right:6，tmp:7\n",
      "left:6,right:6，tmp:7\n",
      "[1, 2, 3, 4, 5, 6, 7, 9, 8]\n",
      "left:7,right:8，tmp:9\n",
      "left:8,right:8，tmp:9\n",
      "[1, 2, 3, 4, 5, 6, 7, 8, 9]\n"
     ]
    }
   ],
   "source": [
    "quick_sort(li,0,len(li)-1)"
   ]
  },
  {
   "cell_type": "code",
   "execution_count": 20,
   "metadata": {},
   "outputs": [
    {
     "data": {
      "text/plain": [
       "8"
      ]
     },
     "execution_count": 20,
     "metadata": {},
     "output_type": "execute_result"
    }
   ],
   "source": [
    "li = [5,2,1,4,3,6,7,9,8]\n",
    "len(li)-1"
   ]
  },
  {
   "cell_type": "code",
   "execution_count": 21,
   "metadata": {},
   "outputs": [
    {
     "name": "stdout",
     "output_type": "stream",
     "text": [
      "left:0,right:4，tmp:5\n",
      "left:4,right:4，tmp:5\n",
      "[3, 2, 1, 4, 5, 6, 7, 9, 8]\n",
      "left:0,right:2，tmp:3\n",
      "left:2,right:2，tmp:3\n",
      "[1, 2, 3, 4, 5, 6, 7, 9, 8]\n",
      "left:0,right:0，tmp:1\n",
      "left:0,right:0，tmp:1\n",
      "[1, 2, 3, 4, 5, 6, 7, 9, 8]\n",
      "left:5,right:5，tmp:6\n",
      "left:5,right:5，tmp:6\n",
      "[1, 2, 3, 4, 5, 6, 7, 9, 8]\n",
      "left:6,right:6，tmp:7\n",
      "left:6,right:6，tmp:7\n",
      "[1, 2, 3, 4, 5, 6, 7, 9, 8]\n",
      "left:7,right:8，tmp:9\n",
      "left:8,right:8，tmp:9\n",
      "[1, 2, 3, 4, 5, 6, 7, 8, 9]\n"
     ]
    }
   ],
   "source": [
    "quick_sort(li,0,len(li)-1)"
   ]
  },
  {
   "cell_type": "code",
   "execution_count": 22,
   "metadata": {},
   "outputs": [],
   "source": [
    "import random"
   ]
  },
  {
   "cell_type": "code",
   "execution_count": 23,
   "metadata": {},
   "outputs": [],
   "source": [
    "random.shuffle(li)"
   ]
  },
  {
   "cell_type": "code",
   "execution_count": 24,
   "metadata": {},
   "outputs": [
    {
     "data": {
      "text/plain": [
       "[3, 1, 2, 8, 7, 5, 4, 6, 9]"
      ]
     },
     "execution_count": 24,
     "metadata": {},
     "output_type": "execute_result"
    }
   ],
   "source": [
    "li"
   ]
  },
  {
   "cell_type": "code",
   "execution_count": 27,
   "metadata": {},
   "outputs": [],
   "source": [
    "# 内部实现语言为c\n",
    "li.sort()"
   ]
  },
  {
   "cell_type": "code",
   "execution_count": 28,
   "metadata": {},
   "outputs": [
    {
     "data": {
      "text/plain": [
       "[1, 2, 3, 4, 5, 6, 7, 8, 9]"
      ]
     },
     "execution_count": 28,
     "metadata": {},
     "output_type": "execute_result"
    }
   ],
   "source": [
    "li"
   ]
  },
  {
   "cell_type": "code",
   "execution_count": null,
   "metadata": {},
   "outputs": [],
   "source": []
  }
 ],
 "metadata": {
  "kernelspec": {
   "display_name": "Python 3",
   "language": "python",
   "name": "python3"
  },
  "language_info": {
   "codemirror_mode": {
    "name": "ipython",
    "version": 3
   },
   "file_extension": ".py",
   "mimetype": "text/x-python",
   "name": "python",
   "nbconvert_exporter": "python",
   "pygments_lexer": "ipython3",
   "version": "3.6.2"
  }
 },
 "nbformat": 4,
 "nbformat_minor": 2
}

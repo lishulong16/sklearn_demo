{
 "cells": [
  {
   "cell_type": "code",
   "execution_count": 1,
   "metadata": {},
   "outputs": [],
   "source": [
    "from threading import Thread"
   ]
  },
  {
   "cell_type": "code",
   "execution_count": 2,
   "metadata": {},
   "outputs": [],
   "source": [
    "from datetime import datetime"
   ]
  },
  {
   "cell_type": "code",
   "execution_count": 3,
   "metadata": {},
   "outputs": [],
   "source": [
    "def cal_time(func):\n",
    "    def wrapper(*args,**kwars):\n",
    "        dt1 = datetime.now()\n",
    "        re = func(*args,**kwars)\n",
    "        dt2 = datetime.now()\n",
    "        print('function :{} cost time :{}'.format(func.__name__,(dt2-dt1).total_seconds()))\n",
    "        return re\n",
    "    return wrapper"
   ]
  },
  {
   "cell_type": "code",
   "execution_count": 4,
   "metadata": {},
   "outputs": [],
   "source": [
    "def cal_count():\n",
    "    i = 0\n",
    "    for i in range(10000000):\n",
    "        i+=i\n",
    "#     print (i)"
   ]
  },
  {
   "cell_type": "code",
   "execution_count": 5,
   "metadata": {},
   "outputs": [],
   "source": [
    "@cal_time\n",
    "def main():\n",
    "    for i in range(100):\n",
    "        t = Thread(target=cal_count)\n",
    "        t.start()\n",
    "        t.join()"
   ]
  },
  {
   "cell_type": "code",
   "execution_count": 6,
   "metadata": {},
   "outputs": [
    {
     "name": "stdout",
     "output_type": "stream",
     "text": [
      "function :main cost time :84.440559\n"
     ]
    }
   ],
   "source": [
    "main()"
   ]
  },
  {
   "cell_type": "code",
   "execution_count": 7,
   "metadata": {},
   "outputs": [],
   "source": [
    "@cal_time\n",
    "def _main():\n",
    "    ts = []\n",
    "    for i in range(100):\n",
    "        t = Thread(target=cal_count)\n",
    "        t.start()\n",
    "        ts.append(t)\n",
    "    \n",
    "    for j in ts:\n",
    "        j.join()"
   ]
  },
  {
   "cell_type": "code",
   "execution_count": 8,
   "metadata": {},
   "outputs": [
    {
     "name": "stdout",
     "output_type": "stream",
     "text": [
      "function :_main cost time :145.28217\n"
     ]
    }
   ],
   "source": [
    "_main()"
   ]
  },
  {
   "cell_type": "code",
   "execution_count": null,
   "metadata": {},
   "outputs": [],
   "source": []
  }
 ],
 "metadata": {
  "kernelspec": {
   "display_name": "Python 3",
   "language": "python",
   "name": "python3"
  },
  "language_info": {
   "codemirror_mode": {
    "name": "ipython",
    "version": 3
   },
   "file_extension": ".py",
   "mimetype": "text/x-python",
   "name": "python",
   "nbconvert_exporter": "python",
   "pygments_lexer": "ipython3",
   "version": "3.6.2"
  }
 },
 "nbformat": 4,
 "nbformat_minor": 2
}
